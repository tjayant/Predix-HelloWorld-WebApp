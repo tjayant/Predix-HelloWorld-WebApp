{
  "nbformat": 4,
  "nbformat_minor": 0,
  "metadata": {
    "colab": {
      "name": "ExploringWord2Vec.ipynb",
      "provenance": [],
      "collapsed_sections": [],
      "include_colab_link": true
    },
    "language_info": {
      "codemirror_mode": {
        "name": "ipython",
        "version": 3
      },
      "file_extension": ".py",
      "mimetype": "text/x-python",
      "name": "python",
      "nbconvert_exporter": "python",
      "pygments_lexer": "ipython3",
      "version": "3.7.1"
    },
    "kernelspec": {
      "name": "python3",
      "display_name": "Python 3"
    },
    "accelerator": "GPU"
  },
  "cells": [
    {
      "cell_type": "markdown",
      "metadata": {
        "id": "view-in-github",
        "colab_type": "text"
      },
      "source": [
        "<a href=\"https://colab.research.google.com/github/tjayant/Predix-HelloWorld-WebApp/blob/master/ExploringWord2Vec.ipynb\" target=\"_parent\"><img src=\"https://colab.research.google.com/assets/colab-badge.svg\" alt=\"Open In Colab\"/></a>"
      ]
    },
    {
      "cell_type": "markdown",
      "metadata": {
        "id": "1ZcUP8hOcIHt",
        "colab_type": "text"
      },
      "source": [
        "# XCS224N Assignment 1 Part 2: Exploring Word2Vec Embeddings (15 Points)\n",
        "\n",
        "Before you start, make sure you read the XCS224N Assignment 1 PDF Handout.\n",
        "\n",
        "As you work you way through this notebook, you will enter answers directly into a companion quiz linked in the SCPD learning portal. The name of this quiz is **Assignment 1 Part 2 Companion Quiz**. Log in to the SCPD site now and open the quiz before you begin. "
      ]
    },
    {
      "cell_type": "code",
      "metadata": {
        "id": "UMX2qGcLcIHx",
        "colab_type": "code",
        "colab": {}
      },
      "source": [
        "# All Import Statements Defined Here\n",
        "# Note: Do not add to this list.\n",
        "# All the dependencies you need can be installed by running this cell.\n",
        "# Throughout this notebook you can run a cell by hitting CTRL+RETURN or the Play button/icon at left\n",
        "# ----------------\n",
        "\n",
        "import sys\n",
        "assert sys.version_info[0]==3\n",
        "assert sys.version_info[1] >= 5\n",
        "\n",
        "from gensim.models import KeyedVectors\n",
        "from gensim.test.utils import datapath\n",
        "import pprint\n",
        "import matplotlib.pyplot as plt\n",
        "\n",
        "# ----------------"
      ],
      "execution_count": 0,
      "outputs": []
    },
    {
      "cell_type": "markdown",
      "metadata": {
        "id": "7NsuZre3cII4",
        "colab_type": "text"
      },
      "source": [
        "As discussed in class, more recently prediction-based word vectors have come into fashion, e.g. word2vec. Here, we shall explore the embeddings produced by word2vec. Please revisit the class notes and lecture slides for more details on the word2vec algorithm. If you're feeling adventurous, challenge yourself and try reading the [original paper](https://papers.nips.cc/paper/5021-distributed-representations-of-words-and-phrases-and-their-compositionality.pdf).\n",
        "\n",
        "Then run the following cells to load the word2vec vectors into memory. **_Note: This could take several minutes._**"
      ]
    },
    {
      "cell_type": "code",
      "metadata": {
        "id": "xffIF_HLcII5",
        "colab_type": "code",
        "colab": {}
      },
      "source": [
        "def load_word2vec():\n",
        "    \"\"\" Load Word2Vec Vectors\n",
        "        Return:\n",
        "            wv_from_bin: 2.5 million of 3 million embeddings, each lengh 300\n",
        "    \"\"\"\n",
        "    import gensim.downloader as api\n",
        "    from gensim.models import KeyedVectors\n",
        "    # let's load 2.5 million of the 3 million word embeddings so we don't run out of memory on Colab\n",
        "    wv_from_bin = KeyedVectors.load_word2vec_format(api.load(\"word2vec-google-news-300\", return_path=True), limit=2500000, binary=True)\n",
        "    vocab = list(wv_from_bin.vocab.keys())\n",
        "    print(\"Loaded vocab size %i\" % len(vocab))\n",
        "    return wv_from_bin"
      ],
      "execution_count": 0,
      "outputs": []
    },
    {
      "cell_type": "code",
      "metadata": {
        "id": "auC2oPKqcII9",
        "colab_type": "code",
        "colab": {}
      },
      "source": [
        "# -----------------------------------\n",
        "# Run Cell to Load Word Vectors\n",
        "# Note: This may take several minutes\n",
        "# -----------------------------------\n",
        "wv_from_bin = load_word2vec()"
      ],
      "execution_count": 0,
      "outputs": []
    },
    {
      "cell_type": "markdown",
      "metadata": {
        "id": "nutxSVMXcIJQ",
        "colab_type": "text"
      },
      "source": [
        "###Question 1 (2 points)\n",
        "\n",
        "The first question relates to the plot from the first part of the assignment. Please visit the Assignment 1 Part 2 Companion quiz in the SCPD learning platform, and answer this question prior to continuing. \n",
        "\n",
        "\n"
      ]
    },
    {
      "cell_type": "markdown",
      "metadata": {
        "id": "Hx-f7eIbSkxx",
        "colab_type": "text"
      },
      "source": [
        "\n",
        "### Cosine Similarity\n",
        "Now that we have word vectors, we need a way to quantify the similarity between individual words, according to these vectors. One such metric is cosine-similarity. We will be using this to find words that are \"close\" and \"far\" from one another.\n",
        "\n",
        "We can think of n-dimensional vectors as points in n-dimensional space. If we take this perspective L1 and L2 Distances help quantify the amount of space \"we must travel\" to get between these two points. Another approach is to examine the angle between two vectors. From trigonometry we know that:\n",
        "\n",
        "<img src=\"https://drive.google.com/uc?id=1PEmKQxxs5XB-N1Hz-jr514iWoqa62MgL\" width=20% style=\"float: center;\"></img>\n",
        "\n",
        "Instead of computing the actual angle, we can leave the similarity in terms of $similarity = cos(\\Theta)$. Formally the [Cosine Similarity](https://en.wikipedia.org/wiki/Cosine_similarity) $s$ between two vectors $p$ and $q$ is defined as:\n",
        "\n",
        "$$s = \\frac{p \\cdot q}{||p|| ||q||}, \\textrm{ where } s \\in [-1, 1] $$ "
      ]
    },
    {
      "cell_type": "markdown",
      "metadata": {
        "id": "01SfDtSHcIJQ",
        "colab_type": "text"
      },
      "source": [
        "### Questions 2-10: Homonymns and Similarity (4 points)\n",
        "\n",
        "Homonyms are words with more than one meaning. We want to see how our word embeddings capture this phenomenon for such words. We are going to test if, for certain homonyms, the top-10 most similar words (according to cosine similarity) contain related words from *both* meanings. For example, \"leaves\" has both \"vanishes\" and \"stalks\" in the top 10, and \"scoop\" has both \"handed_waffle_cone\" and \"lowdown\". \n",
        "\n",
        "**Note**: You should use the `wv_from_bin.most_similar(word)` function to get the top 10 similar words. This function ranks all other words in the vocabulary with respect to their cosine similarity to the given word. For further assistance please check the __[GenSim documentation](https://radimrehurek.com/gensim/models/keyedvectors.html#gensim.models.keyedvectors.FastTextKeyedVectors.most_similar)__.\n"
      ]
    },
    {
      "cell_type": "code",
      "metadata": {
        "id": "NT1TUUT0cIJR",
        "colab_type": "code",
        "colab": {}
      },
      "source": [
        "### Run this cell to print out the Top-10 most similar words\n",
        "### Try the sample and then use this cell to complete Questions 2-10 in the companion quiz \n",
        "\n",
        "wv_from_bin.most_similar(\"mole\")\n"
      ],
      "execution_count": 0,
      "outputs": []
    },
    {
      "cell_type": "markdown",
      "metadata": {
        "id": "K5-CpkCmcIJV",
        "colab_type": "text"
      },
      "source": [
        "### Questions 11-19: Synonyms & Antonyms (4 points) \n",
        "\n",
        "When considering Cosine Similarity, it's often more convenient to think of Cosine Distance, which is simply (1 - Cosine Similarity).\n",
        "\n",
        "We will look for triplets of words (w1,w2,w3) where w1 and w2 are synonyms and w1 and w3 are antonyms, but Cosine Distance(w1,w3) < Cosine Distance(w1,w2). For example, w1=\"happy\" is closer to w3=\"sad\" than to w2=\"cheerful\".\n",
        "\n",
        "You should use the the `wv_from_bin.distance(w1, w2)` function here in order to compute the cosine distance between two words. Please see the __[GenSim documentation](https://radimrehurek.com/gensim/models/keyedvectors.html#gensim.models.keyedvectors.FastTextKeyedVectors.distance)__ for further assistance.\n"
      ]
    },
    {
      "cell_type": "code",
      "metadata": {
        "id": "uqZN_746cIJV",
        "colab_type": "code",
        "colab": {}
      },
      "source": [
        "### Run this cell to compare cosine distances between synonyms and antonyms\n",
        "### Try the sample and then use this cell to complete Questions 11-19 in the companion quiz\n",
        "\n",
        "w1 = \"happy\"\n",
        "w2 = \"cheerful\"\n",
        "w3 = \"sad\"\n",
        "w1_w2_dist = wv_from_bin.distance(w1, w2)\n",
        "w1_w3_dist = wv_from_bin.distance(w1, w3)\n",
        "\n",
        "print(\"Synonyms {}, {} have cosine distance: {}\".format(w1, w2, w1_w2_dist))\n",
        "print(\"Antonyms {}, {} have cosine distance: {}\".format(w1, w3, w1_w3_dist))\n"
      ],
      "execution_count": 0,
      "outputs": []
    },
    {
      "cell_type": "markdown",
      "metadata": {
        "id": "MCV6TLW8cIJa",
        "colab_type": "text"
      },
      "source": [
        "### Questions 20-31: Analogies with Word Vectors (3 Points)\n",
        "Word2Vec vectors have been shown to *sometimes* exhibit the ability to solve analogies. \n",
        "\n",
        "As an example, for the analogy \"man : king :: woman : x\", what is x?\n",
        "\n",
        "In the cell below, we show you how to use word vectors to find x. The `most_similar` function finds words that are most similar to the words in the `positive` list and most dissimilar from the words in the `negative` list. **The model's proposed answer to the analogy will be the word ranked most similar (largest numerical value).**\n",
        "\n",
        "We will test whether or not the word vectors can solve a handful of pre-selected analogies. \n",
        "\n",
        "**Note:** Further Documentation on the `most_similar` function can be found within the __[GenSim documentation](https://radimrehurek.com/gensim/models/keyedvectors.html#gensim.models.keyedvectors.FastTextKeyedVectors.most_similar)__."
      ]
    },
    {
      "cell_type": "code",
      "metadata": {
        "id": "SOwdmtd5cIJa",
        "colab_type": "code",
        "colab": {}
      },
      "source": [
        "# Run this cell to answer the analogy -- man : king :: woman : x\n",
        "# Try the sample and then use this cell to complete Questions 20-31 in the companion quiz\n",
        "\n",
        "pprint.pprint(wv_from_bin.most_similar(positive=['woman', 'king'], negative=['man']))"
      ],
      "execution_count": 0,
      "outputs": []
    },
    {
      "cell_type": "markdown",
      "metadata": {
        "id": "4G2ozsjccIJp",
        "colab_type": "text"
      },
      "source": [
        "### Question 32: Guided Analysis of Bias in Word Vectors [written] (2 point)\n",
        "\n",
        "It's important to be cognizant of the biases (gender, race, sexual orientation etc.) implicit in our word embeddings. Execute the cells bellow and answer the final multiple choice question. \n",
        "\n",
        "Run the cell below, to examine (a) which terms are most similar to \"woman\" and \"doctor\" and most dissimilar to \"man\", and (b) which terms are most similar to \"man\" and \"doctor\" and most dissimilar to \"woman\"."
      ]
    },
    {
      "cell_type": "code",
      "metadata": {
        "id": "gfOf880QcIJr",
        "colab_type": "code",
        "colab": {}
      },
      "source": [
        "# Run this cell\n",
        "# Here `positive` indicates the list of words to be similar to and `negative` indicates the list of words to be\n",
        "# most dissimilar from.\n",
        "pprint.pprint(wv_from_bin.most_similar(positive=['woman', 'doctor'], negative=['man']))\n",
        "print()\n",
        "pprint.pprint(wv_from_bin.most_similar(positive=['man', 'doctor'], negative=['woman']))"
      ],
      "execution_count": 0,
      "outputs": []
    },
    {
      "cell_type": "markdown",
      "metadata": {
        "id": "9htBlSgGcIJw",
        "colab_type": "text"
      },
      "source": [
        "Now, as another example, run the cell below. "
      ]
    },
    {
      "cell_type": "code",
      "metadata": {
        "id": "WRlHoB7dcIJx",
        "colab_type": "code",
        "colab": {}
      },
      "source": [
        "\n",
        "pprint.pprint(wv_from_bin.most_similar(positive=['brown', 'driving'], negative=['white']))\n",
        "print()\n",
        "pprint.pprint(wv_from_bin.most_similar(positive=['white', 'driving'], negative=['brown']))\n"
      ],
      "execution_count": 0,
      "outputs": []
    },
    {
      "cell_type": "markdown",
      "metadata": {
        "id": "sPuJMxMjcIJ2",
        "colab_type": "text"
      },
      "source": [
        "# <font color=\"blue\"> Submission Instructions</font>\n",
        "\n",
        "Simply make sure you have answered all the multiple choice questions to your satisfaction, and submit!\n",
        "  "
      ]
    }
  ]
}